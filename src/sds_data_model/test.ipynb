{
 "cells": [
  {
   "cell_type": "code",
   "execution_count": 2,
   "metadata": {},
   "outputs": [],
   "source": [
    "from lxml.etree import fromstring\n",
    "from requests import get\n",
    "from dataclasses import dataclass\n",
    "from typing import Dict, List, TypeVar, Union\n",
    "from lxml.etree import Element, parse"
   ]
  },
  {
   "cell_type": "code",
   "execution_count": 1,
   "metadata": {},
   "outputs": [],
   "source": [
    "TITLE_XPATH = [\n",
    "    \"gmd:identificationInfo\",\n",
    "    \"gmd:MD_DataIdentification\",\n",
    "    \"gmd:citation\",\n",
    "    \"gmd:CI_Citation\",\n",
    "    \"gmd:title\",\n",
    "    \"gco:CharacterString\",\n",
    "]\n",
    "\n",
    "ABSTRACT_XPATH = [\n",
    "    \"gmd:identificationInfo\",\n",
    "    \"gmd:MD_DataIdentification\",\n",
    "    \"gmd:abstract\",\n",
    "    \"gco:CharacterString\"\n",
    "]\n",
    "\n",
    "LINEAGE_XPATH =[\n",
    "    \"gmd:dataQualityInfo\",\n",
    "    \"gmd:DQ_DataQuality\",\n",
    "    \"gmd:scope\",\n",
    "    \"gmd:DQ_Scope\",\n",
    "    \"gmd:level\",\n",
    "    \"gmd:MD_ScopeCode\"\n",
    "]\n",
    "\n",
    "METADATA_DATE_XPATH = [\n",
    "    \"gmd:dateStamp\",\n",
    "    \"gco:Date\"\n",
    "]\n",
    "\n",
    "METADATA_LANGUAGE_XPATH = [\n",
    "    \"gmd:language\",\n",
    "    \"gmd:LanguageCode\"\n",
    "]\n",
    "\n",
    "SPATIAL_DATA_SERVICE_TYPE_XPATH = [\n",
    "    \"gmd:MD_Metadata\",\n",
    "    \n",
    "]\n",
    "\n",
    "RESOURCE_TYPE_XPATH = [\n",
    "    \"gmd:hierarchyLevel\",\n",
    "    \"gmd:MD_ScopeCode\"\n",
    "]\n",
    "\n",
    "FILE_IDENTIFIER_XPATH = [\n",
    "    \"gmd:fileIdentifier\",\n",
    "    \"gco:CharacterString\"\n",
    "]"
   ]
  },
  {
   "cell_type": "code",
   "execution_count": 3,
   "metadata": {},
   "outputs": [],
   "source": [
    "response = get(\"https://data.gov.uk/api/2/rest/harvestobject/715bc6a9-1008-4061-8783-d12e9e7f38a9/xml\")\n",
    "\n",
    "xml = fromstring(response.content)\n",
    "\n",
    "nsmap = xml.nsmap"
   ]
  },
  {
   "cell_type": "code",
   "execution_count": 27,
   "metadata": {},
   "outputs": [
    {
     "data": {
      "text/plain": [
       "<Element {http://www.isotc211.org/2005/gmd}MD_Metadata at 0x7f32c7d97ec0>"
      ]
     },
     "execution_count": 27,
     "metadata": {},
     "output_type": "execute_result"
    }
   ],
   "source": [
    "xml"
   ]
  },
  {
   "cell_type": "code",
   "execution_count": 17,
   "metadata": {},
   "outputs": [
    {
     "name": "stdout",
     "output_type": "stream",
     "text": [
      "<Element {http://www.isotc211.org/2005/gmd}fileIdentifier at 0x7f32c69c7980>\n",
      "<Element {http://www.isotc211.org/2005/gmd}language at 0x7f32c69c0a00>\n",
      "<Element {http://www.isotc211.org/2005/gmd}characterSet at 0x7f32c69c7e00>\n",
      "<Element {http://www.isotc211.org/2005/gmd}hierarchyLevel at 0x7f32c69d6e00>\n",
      "<Element {http://www.isotc211.org/2005/gmd}contact at 0x7f32c69d7e00>\n",
      "<Element {http://www.isotc211.org/2005/gmd}dateStamp at 0x7f32c69d7040>\n",
      "<Element {http://www.isotc211.org/2005/gmd}metadataStandardName at 0x7f32c69d6e00>\n",
      "<Element {http://www.isotc211.org/2005/gmd}metadataStandardVersion at 0x7f32c69d7e00>\n",
      "<Element {http://www.isotc211.org/2005/gmd}referenceSystemInfo at 0x7f32c69d7040>\n",
      "<Element {http://www.isotc211.org/2005/gmd}identificationInfo at 0x7f32c69d6e00>\n",
      "<Element {http://www.isotc211.org/2005/gmd}distributionInfo at 0x7f32c69c2900>\n",
      "<Element {http://www.isotc211.org/2005/gmd}dataQualityInfo at 0x7f32c69df280>\n"
     ]
    }
   ],
   "source": [
    "for x in xml:\n",
    "    print (x)"
   ]
  },
  {
   "cell_type": "code",
   "execution_count": 24,
   "metadata": {},
   "outputs": [
    {
     "data": {
      "text/plain": [
       "'A Ramsar site is the land listed as a Wetland of International Importance under the Convention on Wetlands of International Importance Especially as Waterfowl Habitat (the Ramsar Convention) 1973. Data supplied has the status of \"Listed\". The data does not include \"proposed\" sites. Boundaries are mapped against Ordnance Survey MasterMap. Attribution statement: © Natural England copyright. Contains Ordnance Survey data © Crown copyright and database right [year]. Attribution statement: © Natural England copyright. Contains Ordnance Survey data © Crown copyright and database right [year].'"
      ]
     },
     "execution_count": 24,
     "metadata": {},
     "output_type": "execute_result"
    }
   ],
   "source": [
    "xml[9].getchildren()[0].getchildren()[1].getchildren()[0].text"
   ]
  },
  {
   "cell_type": "code",
   "execution_count": 5,
   "metadata": {},
   "outputs": [
    {
     "data": {
      "text/plain": [
       "{'gmd': 'http://www.isotc211.org/2005/gmd',\n",
       " 'xsi': 'http://www.w3.org/2001/XMLSchema-instance',\n",
       " 'gco': 'http://www.isotc211.org/2005/gco',\n",
       " 'geonet': 'http://www.fao.org/geonetwork',\n",
       " 'xlink': 'http://www.w3.org/1999/xlink',\n",
       " 'gmx': 'http://www.isotc211.org/2005/gmx',\n",
       " 'eamp': 'http://environment.data.gov.uk/eamp',\n",
       " 'csw': 'http://www.opengis.net/cat/csw/2.0.2'}"
      ]
     },
     "execution_count": 5,
     "metadata": {},
     "output_type": "execute_result"
    }
   ],
   "source": [
    "nsmap"
   ]
  },
  {
   "cell_type": "code",
   "execution_count": 4,
   "metadata": {},
   "outputs": [],
   "source": [
    "def _get_value(root_element: Element, xpath: Union[str, List], namespaces: Dict) -> str:\n",
    "    if isinstance(xpath, str):\n",
    "        _xpath = xpath\n",
    "    elif isinstance(xpath, list):\n",
    "        _xpath = \"/\".join(xpath)\n",
    "    title_element = root_element.xpath(_xpath, namespaces=namespaces)\n",
    "    return title_element[0].text\n"
   ]
  },
  {
   "cell_type": "code",
   "execution_count": 5,
   "metadata": {},
   "outputs": [],
   "source": [
    "title = _get_value(\n",
    "    root_element=xml,\n",
    "    namespaces=nsmap,\n",
    "    xpath=TITLE_XPATH,\n",
    "    )"
   ]
  },
  {
   "cell_type": "code",
   "execution_count": 6,
   "metadata": {},
   "outputs": [
    {
     "data": {
      "text/plain": [
       "'Ramsar (England)'"
      ]
     },
     "execution_count": 6,
     "metadata": {},
     "output_type": "execute_result"
    }
   ],
   "source": [
    "title"
   ]
  },
  {
   "cell_type": "code",
   "execution_count": 31,
   "metadata": {},
   "outputs": [],
   "source": [
    "abstract = _get_value(\n",
    "    root_element=xml,\n",
    "    namespaces=nsmap,\n",
    "    xpath=ABSTRACT_XPATH,\n",
    "    )\n"
   ]
  },
  {
   "cell_type": "code",
   "execution_count": 32,
   "metadata": {},
   "outputs": [
    {
     "data": {
      "text/plain": [
       "'A Ramsar site is the land listed as a Wetland of International Importance under the Convention on Wetlands of International Importance Especially as Waterfowl Habitat (the Ramsar Convention) 1973. Data supplied has the status of \"Listed\". The data does not include \"proposed\" sites. Boundaries are mapped against Ordnance Survey MasterMap. Attribution statement: © Natural England copyright. Contains Ordnance Survey data © Crown copyright and database right [year]. Attribution statement: © Natural England copyright. Contains Ordnance Survey data © Crown copyright and database right [year].'"
      ]
     },
     "execution_count": 32,
     "metadata": {},
     "output_type": "execute_result"
    }
   ],
   "source": [
    "abstract"
   ]
  },
  {
   "cell_type": "code",
   "execution_count": 8,
   "metadata": {},
   "outputs": [],
   "source": [
    "_xpath = \"/\".join(ABSTRACT_XPATH)"
   ]
  },
  {
   "cell_type": "code",
   "execution_count": 9,
   "metadata": {},
   "outputs": [
    {
     "data": {
      "text/plain": [
       "'gmd:MD_Metadata/gmd:identificationInfo/gmd:MD_DataIdentification/gmd:abstract/gco:CharacterString'"
      ]
     },
     "execution_count": 9,
     "metadata": {},
     "output_type": "execute_result"
    }
   ],
   "source": [
    "_xpath"
   ]
  },
  {
   "cell_type": "code",
   "execution_count": 10,
   "metadata": {},
   "outputs": [],
   "source": [
    "title_element = xml.xpath(_xpath, namespaces=nsmap)"
   ]
  },
  {
   "cell_type": "code",
   "execution_count": 11,
   "metadata": {},
   "outputs": [
    {
     "data": {
      "text/plain": [
       "[]"
      ]
     },
     "execution_count": 11,
     "metadata": {},
     "output_type": "execute_result"
    }
   ],
   "source": [
    "title_element"
   ]
  },
  {
   "cell_type": "code",
   "execution_count": 13,
   "metadata": {},
   "outputs": [
    {
     "ename": "AttributeError",
     "evalue": "'lxml.etree._Element' object has no attribute 'getroot'",
     "output_type": "error",
     "traceback": [
      "\u001b[0;31m---------------------------------------------------------------------------\u001b[0m",
      "\u001b[0;31mAttributeError\u001b[0m                            Traceback (most recent call last)",
      "\u001b[1;32m/home/piumialgamagedona/repos/sds-data-model/src/sds_data_model/m.ipynb Cell 13\u001b[0m in \u001b[0;36m<cell line: 3>\u001b[0;34m()\u001b[0m\n\u001b[1;32m      <a href='vscode-notebook-cell://ssh-remote%2Branch-060/home/piumialgamagedona/repos/sds-data-model/src/sds_data_model/m.ipynb#ch0000018vscode-remote?line=0'>1</a>\u001b[0m xml1 \u001b[39m=\u001b[39m parse(\u001b[39m\"\u001b[39m\u001b[39m/home/piumialgamagedona/repos/sds-data-model/tests/test.metadata/dataset_language.xml\u001b[39m\u001b[39m\"\u001b[39m)\n\u001b[0;32m----> <a href='vscode-notebook-cell://ssh-remote%2Branch-060/home/piumialgamagedona/repos/sds-data-model/src/sds_data_model/m.ipynb#ch0000018vscode-remote?line=2'>3</a>\u001b[0m root_element1 \u001b[39m=\u001b[39m xml\u001b[39m.\u001b[39;49mgetroot()\n\u001b[1;32m      <a href='vscode-notebook-cell://ssh-remote%2Branch-060/home/piumialgamagedona/repos/sds-data-model/src/sds_data_model/m.ipynb#ch0000018vscode-remote?line=4'>5</a>\u001b[0m namespaces1 \u001b[39m=\u001b[39m root_element1\u001b[39m.\u001b[39mnsmap\n",
      "\u001b[0;31mAttributeError\u001b[0m: 'lxml.etree._Element' object has no attribute 'getroot'"
     ]
    }
   ],
   "source": [
    "xml1 = parse(\"/home/piumialgamagedona/repos/sds-data-model/tests/test.metadata/abstract.xml\")"
   ]
  },
  {
   "cell_type": "code",
   "execution_count": 16,
   "metadata": {},
   "outputs": [
    {
     "ename": "AttributeError",
     "evalue": "'lxml.etree._Element' object has no attribute 'getroot'",
     "output_type": "error",
     "traceback": [
      "\u001b[0;31m---------------------------------------------------------------------------\u001b[0m",
      "\u001b[0;31mAttributeError\u001b[0m                            Traceback (most recent call last)",
      "\u001b[1;32m/home/piumialgamagedona/repos/sds-data-model/src/sds_data_model/m.ipynb Cell 14\u001b[0m in \u001b[0;36m<cell line: 1>\u001b[0;34m()\u001b[0m\n\u001b[0;32m----> <a href='vscode-notebook-cell://ssh-remote%2Branch-060/home/piumialgamagedona/repos/sds-data-model/src/sds_data_model/m.ipynb#ch0000020vscode-remote?line=0'>1</a>\u001b[0m root_element1 \u001b[39m=\u001b[39m xml\u001b[39m.\u001b[39;49mgetroot()\n",
      "\u001b[0;31mAttributeError\u001b[0m: 'lxml.etree._Element' object has no attribute 'getroot'"
     ]
    }
   ],
   "source": [
    "root_element1 = xml.getroot()\n"
   ]
  },
  {
   "cell_type": "code",
   "execution_count": 15,
   "metadata": {},
   "outputs": [
    {
     "ename": "AttributeError",
     "evalue": "'lxml.etree._ElementTree' object has no attribute 'nsmap'",
     "output_type": "error",
     "traceback": [
      "\u001b[0;31m---------------------------------------------------------------------------\u001b[0m",
      "\u001b[0;31mAttributeError\u001b[0m                            Traceback (most recent call last)",
      "\u001b[1;32m/home/piumialgamagedona/repos/sds-data-model/src/sds_data_model/m.ipynb Cell 15\u001b[0m in \u001b[0;36m<cell line: 1>\u001b[0;34m()\u001b[0m\n\u001b[0;32m----> <a href='vscode-notebook-cell://ssh-remote%2Branch-060/home/piumialgamagedona/repos/sds-data-model/src/sds_data_model/m.ipynb#ch0000021vscode-remote?line=0'>1</a>\u001b[0m namespaces1 \u001b[39m=\u001b[39m xml1\u001b[39m.\u001b[39;49mnsmap\n",
      "\u001b[0;31mAttributeError\u001b[0m: 'lxml.etree._ElementTree' object has no attribute 'nsmap'"
     ]
    }
   ],
   "source": [
    "\n",
    "namespaces1 = xml1.nsmap\n"
   ]
  },
  {
   "cell_type": "code",
   "execution_count": 14,
   "metadata": {},
   "outputs": [
    {
     "data": {
      "text/plain": [
       "<lxml.etree._ElementTree at 0x7f4765316a00>"
      ]
     },
     "execution_count": 14,
     "metadata": {},
     "output_type": "execute_result"
    }
   ],
   "source": [
    "xml1"
   ]
  },
  {
   "cell_type": "code",
   "execution_count": 35,
   "metadata": {},
   "outputs": [
    {
     "data": {
      "text/plain": [
       "'dataset'"
      ]
     },
     "execution_count": 35,
     "metadata": {},
     "output_type": "execute_result"
    }
   ],
   "source": [
    "lineage = _get_value(\n",
    "    root_element=xml,\n",
    "    namespaces=nsmap,\n",
    "    xpath=LINEAGE_XPATH,\n",
    "    )\n",
    "lineage"
   ]
  },
  {
   "cell_type": "code",
   "execution_count": 36,
   "metadata": {},
   "outputs": [
    {
     "data": {
      "text/plain": [
       "'2020-10-21'"
      ]
     },
     "execution_count": 36,
     "metadata": {},
     "output_type": "execute_result"
    }
   ],
   "source": [
    "\n",
    "metadata_date = _get_value(\n",
    "    root_element=xml,\n",
    "    namespaces=nsmap,\n",
    "    xpath=METADATA_DATE_XPATH,\n",
    "    )\n",
    "metadata_date"
   ]
  },
  {
   "cell_type": "code",
   "execution_count": 37,
   "metadata": {},
   "outputs": [
    {
     "data": {
      "text/plain": [
       "'eng'"
      ]
     },
     "execution_count": 37,
     "metadata": {},
     "output_type": "execute_result"
    }
   ],
   "source": [
    "\n",
    "metadata_language = _get_value(\n",
    "    root_element=xml,\n",
    "    namespaces=nsmap,\n",
    "    xpath=METADATA_LANGUAGE_XPATH,\n",
    "    )\n",
    "metadata_language"
   ]
  },
  {
   "cell_type": "code",
   "execution_count": 38,
   "metadata": {},
   "outputs": [
    {
     "data": {
      "text/plain": [
       "'dataset'"
      ]
     },
     "execution_count": 38,
     "metadata": {},
     "output_type": "execute_result"
    }
   ],
   "source": [
    "\n",
    "resource_type = _get_value(\n",
    "    root_element=xml,\n",
    "    namespaces=nsmap,\n",
    "    xpath=RESOURCE_TYPE_XPATH,\n",
    "    )\n",
    "resource_type"
   ]
  },
  {
   "cell_type": "code",
   "execution_count": 39,
   "metadata": {},
   "outputs": [
    {
     "data": {
      "text/plain": [
       "'c626e031-e561-4861-8219-b04cd1002806'"
      ]
     },
     "execution_count": 39,
     "metadata": {},
     "output_type": "execute_result"
    }
   ],
   "source": [
    "file_identifier = _get_value(\n",
    "    root_element=xml,\n",
    "    namespaces=nsmap,\n",
    "    xpath=FILE_IDENTIFIER_XPATH,\n",
    "    )\n",
    "file_identifier"
   ]
  },
  {
   "cell_type": "code",
   "execution_count": 40,
   "metadata": {},
   "outputs": [
    {
     "data": {
      "text/plain": [
       "'dataset'"
      ]
     },
     "execution_count": 40,
     "metadata": {},
     "output_type": "execute_result"
    }
   ],
   "source": [
    "resource_type"
   ]
  }
 ],
 "metadata": {
  "kernelspec": {
   "display_name": "Python 3.10.0 64-bit ('3.10.0')",
   "language": "python",
   "name": "python3"
  },
  "language_info": {
   "codemirror_mode": {
    "name": "ipython",
    "version": 3
   },
   "file_extension": ".py",
   "mimetype": "text/x-python",
   "name": "python",
   "nbconvert_exporter": "python",
   "pygments_lexer": "ipython3",
   "version": "3.10.0"
  },
  "orig_nbformat": 4,
  "vscode": {
   "interpreter": {
    "hash": "9af48c1d90492d03d164b25b6c78b9b44e62222574c3deb345d31c45a4085ca9"
   }
  }
 },
 "nbformat": 4,
 "nbformat_minor": 2
}
