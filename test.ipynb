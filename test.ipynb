{
 "cells": [
  {
   "cell_type": "code",
   "execution_count": 10,
   "metadata": {},
   "outputs": [],
   "source": [
    "from networkx import DiGraph\n",
    "from uuid import uuid4\n",
    "\n",
    "data_path = \"/path/to/data.shp\"\n",
    "metadata_path = \"/path/to/metadata.xml\"\n",
    "function_name = \"VectorLayer.from_files\"\n",
    "\n",
    "graph = DiGraph()\n",
    "\n",
    "graph.add_nodes_from(\n",
    "    [\n",
    "        (\n",
    "            f\"{uuid4()}_data_path\", {\n",
    "                \"url\": data_path,\n",
    "            }\n",
    "        ),\n",
    "        (\n",
    "            f\"{uuid4()}_metadata_path\", {\n",
    "                \"url\": metadata_path,\n",
    "            }\n",
    "        ),\n",
    "        f\"{uuid4()}_{function_name}_output\",\n",
    "    ],\n",
    ")\n",
    "\n",
    "graph.add_edges_from(\n",
    "    [\n",
    "        (\"data_path\", \"output\"),\n",
    "        (\"metadata_path\", \"output\"),\n",
    "    ],\n",
    "    **{\"function\": function_name},\n",
    ")"
   ]
  },
  {
   "cell_type": "code",
   "execution_count": 36,
   "metadata": {},
   "outputs": [],
   "source": [
    "from functools import singledispatch\n",
    "from typing import Tuple, Union\n",
    "\n",
    "from networkx import DiGraph\n",
    "\n",
    "@singledispatch\n",
    "def _generate_graph(inputs: Union[Tuple[str, str], Tuple[DiGraph, DiGraph], DiGraph]) -> DiGraph:\n",
    "    pass\n",
    "\n",
    "_generate_graph.register\n",
    "def _(inputs: Tuple[str, str]) -> DiGraph:\n",
    "    pass\n",
    "\n",
    "_generate_graph.register\n",
    "def _(inputs: Tuple[DiGraph, DiGraph]) -> DiGraph:\n",
    "    pass\n",
    "\n",
    "_generate_graph.register\n",
    "def _(inputs: DiGraph) -> DiGraph:\n",
    "    pass\n"
   ]
  }
 ],
 "metadata": {
  "kernelspec": {
   "display_name": "Python 3.8.8 ('.venv': poetry)",
   "language": "python",
   "name": "python3"
  },
  "language_info": {
   "codemirror_mode": {
    "name": "ipython",
    "version": 3
   },
   "file_extension": ".py",
   "mimetype": "text/x-python",
   "name": "python",
   "nbconvert_exporter": "python",
   "pygments_lexer": "ipython3",
   "version": "3.8.8"
  },
  "orig_nbformat": 4,
  "vscode": {
   "interpreter": {
    "hash": "2659b03bc0c68a6a84e4eb36266e17138ab4f2be13aa9cce006223054a4546ae"
   }
  }
 },
 "nbformat": 4,
 "nbformat_minor": 2
}
